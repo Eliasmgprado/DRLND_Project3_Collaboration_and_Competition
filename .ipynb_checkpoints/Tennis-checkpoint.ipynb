{
 "cells": [
  {
   "cell_type": "markdown",
   "metadata": {},
   "source": [
    "# Collaboration and Competition\n",
    "\n",
    "---\n",
    "\n",
    "Resolution of the third project of the [Deep Reinforcement Learning Nanodegree](https://www.udacity.com/course/deep-reinforcement-learning-nanodegree--nd893). For the detailed implementation see `Report.pdf` file.\n",
    "\n",
    "**Necessary packages:**\n",
    "- [Unity ML-Agents](https://github.com/Unity-Technologies/ml-agents/blob/master/docs/Installation.md)\n",
    "- [NumPy](http://www.numpy.org/)."
   ]
  },
  {
   "cell_type": "markdown",
   "metadata": {},
   "source": [
    "Next, we will start the environment!  **_Before running the code cell below_**, change the `file_name` parameter to match the location of the Unity environment that you downloaded.\n",
    "\n",
    "- **Mac**: `\"path/to/Tennis.app\"`\n",
    "- **Windows** (x86): `\"path/to/Tennis_Windows_x86/Tennis.exe\"`\n",
    "- **Windows** (x86_64): `\"path/to/Tennis_Windows_x86_64/Tennis.exe\"`\n",
    "- **Linux** (x86): `\"path/to/Tennis_Linux/Tennis.x86\"`\n",
    "- **Linux** (x86_64): `\"path/to/Tennis_Linux/Tennis.x86_64\"`\n",
    "- **Linux** (x86, headless): `\"path/to/Tennis_Linux_NoVis/Tennis.x86\"`\n",
    "- **Linux** (x86_64, headless): `\"path/to/Tennis_Linux_NoVis/Tennis.x86_64\"`\n",
    "\n",
    "For instance, if you are using a Mac, then you downloaded `Tennis.app`.  If this file is in the same folder as the notebook, then the line below should appear as follows:\n",
    "```\n",
    "env = UnityEnvironment(file_name=\"Tennis.app\")\n",
    "```"
   ]
  },
  {
   "cell_type": "code",
   "execution_count": 1,
   "metadata": {},
   "outputs": [
    {
     "name": "stderr",
     "output_type": "stream",
     "text": [
      "INFO:unityagents:\n",
      "'Academy' started successfully!\n",
      "Unity Academy name: Academy\n",
      "        Number of Brains: 1\n",
      "        Number of External Brains : 1\n",
      "        Lesson number : 0\n",
      "        Reset Parameters :\n",
      "\t\t\n",
      "Unity brain name: TennisBrain\n",
      "        Number of Visual Observations (per agent): 0\n",
      "        Vector Observation space type: continuous\n",
      "        Vector Observation space size (per agent): 8\n",
      "        Number of stacked Vector Observation: 3\n",
      "        Vector Action space type: continuous\n",
      "        Vector Action space size (per agent): 2\n",
      "        Vector Action descriptions: , \n"
     ]
    }
   ],
   "source": [
    "from unityagents import UnityEnvironment\n",
    "import numpy as np\n",
    "\n",
    "try:\n",
    "    env.close()\n",
    "except:\n",
    "    pass\n",
    "\n",
    "env = UnityEnvironment(file_name=\"Tennis_Windows_x86_64\\Tennis.exe\") # Change file_name if necessary\n",
    "brain_name = env.brain_names[0]\n",
    "brain = env.brains[brain_name]\n",
    "\n",
    "env_info = env.reset(train_mode=True)[brain_name]\n",
    "action_size = brain.vector_action_space_size\n",
    "state_size = env_info.vector_observations.shape[1]\n",
    "\n",
    "num_agents = len(env_info.agents)"
   ]
  },
  {
   "cell_type": "markdown",
   "metadata": {},
   "source": [
    "### Enviroment Details\n",
    "\n",
    "In this environment, two agents control rackets to bounce a ball over a net. If an agent hits the ball over the net, it receives a reward of +0.1.  If an agent lets a ball hit the ground or hits the ball out of bounds, it receives a reward of -0.01.  Thus, the goal of each agent is to keep the ball in play.\n",
    "\n",
    "The observation space consists of 8 variables corresponding to the position and velocity of the ball and racket. Two continuous actions are available, corresponding to movement toward (or away from) the net, and jumping. "
   ]
  },
  {
   "cell_type": "markdown",
   "metadata": {},
   "source": [
    "# Project Resolution\n",
    "\n",
    "The algorithms developed for this project are located in the following files:\n",
    "- `utils.py`: Implementation of Config, OUNoise, Replay Memory.\n",
    "- `nn.py`: Implementation of Actor-Critic Networks.\n",
    "- `agent.py`: Implementation of the DDPG and PPO Agents.\n"
   ]
  },
  {
   "cell_type": "code",
   "execution_count": 2,
   "metadata": {},
   "outputs": [
    {
     "name": "stdout",
     "output_type": "stream",
     "text": [
      "Running on: cuda:0\n"
     ]
    }
   ],
   "source": [
    "from utils import Config\n",
    "from agent import DDPG_Agent, MADDPG"
   ]
  },
  {
   "cell_type": "markdown",
   "metadata": {},
   "source": [
    "#### Auxiliary Functions"
   ]
  },
  {
   "cell_type": "code",
   "execution_count": 3,
   "metadata": {},
   "outputs": [],
   "source": [
    "from matplotlib import pyplot as plt\n",
    "import pandas as pd\n",
    "# plot the scores\n",
    "\n",
    "def plot_scores(scores, rolling_window=100, title=''):\n",
    "    \"\"\"Plot Agent Traininig Scores per Episode.\n",
    "    \n",
    "    Params\n",
    "    ======\n",
    "        scores (list): Scores over each episode.\n",
    "        rolling_window (int): Rolling mean window length.\n",
    "        title (string): Chart title.\n",
    "    \"\"\"\n",
    "    fig = plt.figure(dpi=127)\n",
    "    ax = fig.add_subplot(111)\n",
    "    plt.plot(np.arange(len(scores)), scores)\n",
    "    plt.ylabel('Score')\n",
    "    plt.xlabel('Episode #')\n",
    "    rolling_mean = pd.Series(scores).rolling(rolling_window).mean()\n",
    "    plt.plot(rolling_mean);\n",
    "    plt.title(title)\n",
    "    return rolling_mean\n",
    "\n",
    "def plot_pkl_score(save_name, rolling_window=100, title=''):\n",
    "    \"\"\"Plot Saved Scores.\n",
    "    \n",
    "    Params\n",
    "    ======\n",
    "        save_name (string): Scores file name sufix.\n",
    "        rolling_window (int): Rolling mean window length.\n",
    "        title (string): Chart title.\n",
    "    \"\"\"\n",
    "    \n",
    "    with open(f'scores_{save_name}.pkl', 'rb') as handle:\n",
    "        scores = pickle.load(handle)\n",
    "        \n",
    "        plot_scores(scores, rolling_window, title)"
   ]
  },
  {
   "cell_type": "markdown",
   "metadata": {},
   "source": [
    "#### Training Function"
   ]
  },
  {
   "cell_type": "code",
   "execution_count": 4,
   "metadata": {},
   "outputs": [],
   "source": [
    "import datetime\n",
    "import time\n",
    "import pickle\n",
    "from collections import deque\n",
    "\n",
    "class Trainer():\n",
    "    \n",
    "    TARGET_SCORE = 0.5\n",
    "    def __init__(self, env, brain_name, agent, n_agents=1):\n",
    "        self.agent = agent\n",
    "        self.n_agents = n_agents\n",
    "        self.scores_deque = deque(maxlen=100)     # last 100 scores\n",
    "        self.scores_ep = []                       # list containing scores from each episode\n",
    "        self.env = env\n",
    "        self.brain_name = brain_name\n",
    "        self.max_score = 0                        # initialize agent max score \n",
    "\n",
    "    def verbose(self, i_episode, avg_score, max_score, noise, exec_time, fix=True):\n",
    "        if fix:\n",
    "            print(f'\\rEpisode {i_episode}\\tAverage Score: {avg_score:.3f} ' + \\\n",
    "                    f'Max Score: {max_score:.3f} ' + \\\n",
    "                    f'Noise: {noise:.3f} ' + \\\n",
    "                    f'exec.time: {exec_time}', end=\"\")\n",
    "        else:\n",
    "            print(f'\\rEpisode {i_episode}\\tAverage Score: {avg_score:.3f} ' + \\\n",
    "                    f'Max Score: {max_score:.3f} ' + \\\n",
    "                    f'Noise: {noise:.3f} ' + \\\n",
    "                    f'exec.time: {exec_time}')\n",
    "    \n",
    "    def train(self, n_episodes=1000, max_t=500, print_every=100, verbose=True, save=True, \n",
    "              save_name='', stop=False):\n",
    "        \n",
    "        start_time = time.time()                   # register start time\n",
    "        num_agents = self.n_agents\n",
    "        max_score = -np.inf\n",
    "        \n",
    "        for i_episode in range(1, n_episodes+1):\n",
    "            env_info = self.env.reset(train_mode=True)[brain_name]   # Init Enviroment\n",
    "            states = env_info.vector_observations                    # Get Initial State\n",
    "            scores = np.zeros(self.n_agents)                            # array with episode scores\n",
    "            self.agent.reset()                                       # Reset Noise\n",
    "            \n",
    "            for t in range(max_t):\n",
    "                actions = self.agent.act(states)\n",
    "                env_info = self.env.step(actions)[self.brain_name]\n",
    "                next_state = env_info.vector_observations\n",
    "                rewards = env_info.rewards\n",
    "                done = env_info.local_done\n",
    "                \n",
    "                self.agent.step(states, actions, rewards, next_state, done)\n",
    "                states = next_state\n",
    "                scores += rewards\n",
    "                \n",
    "                if np.any(done):\n",
    "                    break \n",
    "            \n",
    "            ## Save scores\n",
    "            self.scores_deque.append(np.mean(scores))\n",
    "            self.scores_ep.append(np.mean(scores))\n",
    "            \n",
    "            ## Save max score\n",
    "            if np.mean(scores) > max_score:\n",
    "                max_score = np.mean(scores)\n",
    "\n",
    "            exec_time = time.time() - start_time  # register execution time\n",
    "            \n",
    "            ## VERBOSE\n",
    "            self.verbose(i_episode, np.mean(self.scores_deque), max_score, self.agent.get_noise()[0], \n",
    "                         str(datetime.timedelta(seconds=exec_time)), fix=True)\n",
    "\n",
    "            if i_episode % print_every == 0 and verbose:\n",
    "                self.verbose(i_episode, np.mean(self.scores_deque), max_score, self.agent.get_noise()[0], \n",
    "                         str(datetime.timedelta(seconds=exec_time)), fix=False)\n",
    "\n",
    "            ## Check if eviroment is solved and save checkpoint\n",
    "            if np.mean(self.scores_deque) >= self.TARGET_SCORE and len(self.scores_deque) == 100:\n",
    "                if self.max_score == 0:\n",
    "                    print(' <-- Objective Achived!')\n",
    "                    print(f'- Average score of +{np.mean(self.scores_deque):.2f} over 100 consecutive episodes')\n",
    "\n",
    "                    if stop:\n",
    "                        print('- Trainining Finished -')\n",
    "                        print(f'- Total training time:\\t{str(datetime.timedelta(seconds=exec_time))}')\n",
    "                        \n",
    "                        if save:\n",
    "                            self.agent.save_agents()\n",
    "                            \n",
    "                            with open(f'scores_{save_name}.pkl', 'wb') as handle:\n",
    "                                pickle.dump(self.scores_ep, handle, protocol=pickle.HIGHEST_PROTOCOL)\n",
    "                            \n",
    "                        return self.scores_ep, i_episode\n",
    "\n",
    "                if np.mean(self.scores_deque) >= self.max_score:\n",
    "                    max_score = np.mean(self.scores_deque)\n",
    "\n",
    "                    if save:\n",
    "                        self.agent.save_agents()\n",
    "\n",
    "        exec_time = time.time() - start_time                   # compute training time\n",
    "\n",
    "        ## save training scores\n",
    "        if save:\n",
    "            with open(f'scores_{save_name}.pkl', 'wb') as handle:\n",
    "                pickle.dump(self.scores_ep, handle, protocol=pickle.HIGHEST_PROTOCOL)\n",
    "\n",
    "\n",
    "        print('- Trainining Finished -')\n",
    "        print(f'\\t-Total training time:\\t{str(datetime.timedelta(seconds=exec_time))}')\n",
    "        if self.max_score > 0:\n",
    "            print(f'\\t-Maximum average score of +{max_score} over 100 consecutive episodes')\n",
    "        else:\n",
    "            if stop:\n",
    "                return self.scores_ep, 9999\n",
    "            print('!!! Objective NOT achived !!!')\n",
    "        return self.scores_ep\n",
    "        \n"
   ]
  },
  {
   "cell_type": "markdown",
   "metadata": {},
   "source": [
    "### Train MADDQN Agent"
   ]
  },
  {
   "cell_type": "code",
   "execution_count": 5,
   "metadata": {},
   "outputs": [],
   "source": [
    "config = Config()\n",
    "\n",
    "config.buffer_size = int(1e6)\n",
    "config.batch_size = 512\n",
    "\n",
    "\n",
    "config.gamma = 0.99\n",
    "config.tau = 8e-3\n",
    "config.lr_critic = 5e-4\n",
    "config.lr_actor = 1e-4\n",
    "config.l2_reg = 0\n",
    "config.clip_grad_act = False\n",
    "config.clip_grad_crit = 1\n",
    "\n",
    "config.fc1_act = 64\n",
    "config.fc2_act = 64\n",
    "config.fc1_crit = 64\n",
    "config.fc2_crit = 64\n",
    "config.fc3_crit = 64\n",
    "config.update_every = 4\n",
    "config.update_times = 1\n",
    "config.bn = True\n",
    "\n",
    "config.noise_decay = 1\n",
    "config.noise_decay_factor = 0.9998\n",
    "config.min_noise = 0.01"
   ]
  },
  {
   "cell_type": "code",
   "execution_count": 6,
   "metadata": {},
   "outputs": [],
   "source": [
    "with open('MADDDPG_config.pkl', 'wb') as handle:\n",
    "    pickle.dump(config, handle, protocol=pickle.HIGHEST_PROTOCOL)"
   ]
  },
  {
   "cell_type": "code",
   "execution_count": 7,
   "metadata": {},
   "outputs": [],
   "source": [
    "agent = MADDPG(state_size, action_size, num_agents, random_seed=42, config=config)"
   ]
  },
  {
   "cell_type": "code",
   "execution_count": 9,
   "metadata": {},
   "outputs": [],
   "source": [
    "trainer = Trainer(env, brain_name, agent, num_agents)"
   ]
  },
  {
   "cell_type": "code",
   "execution_count": 10,
   "metadata": {},
   "outputs": [
    {
     "name": "stdout",
     "output_type": "stream",
     "text": [
      "Episode 100\tAverage Score: -0.000 Max Score: 0.095 Noise: 0.726 exec.time: 0:00:23.689709\n",
      "Episode 200\tAverage Score: -0.003 Max Score: 0.095 Noise: 0.538 exec.time: 0:00:53.529248\n",
      "Episode 300\tAverage Score: 0.001 Max Score: 0.145 Noise: 0.386 exec.time: 0:01:22.9005436\n",
      "Episode 400\tAverage Score: 0.007 Max Score: 0.145 Noise: 0.263 exec.time: 0:01:55.881538\n",
      "Episode 500\tAverage Score: 0.001 Max Score: 0.145 Noise: 0.190 exec.time: 0:02:23.974537\n",
      "Episode 600\tAverage Score: 0.005 Max Score: 0.145 Noise: 0.133 exec.time: 0:02:54.7231473\n",
      "Episode 700\tAverage Score: 0.032 Max Score: 0.145 Noise: 0.076 exec.time: 0:03:44.064096\n",
      "Episode 800\tAverage Score: 0.049 Max Score: 0.195 Noise: 0.038 exec.time: 0:04:58.811554\n",
      "Episode 900\tAverage Score: 0.092 Max Score: 0.595 Noise: 0.014 exec.time: 0:06:39.625961\n",
      "Episode 1000\tAverage Score: 0.104 Max Score: 1.095 Noise: 0.010 exec.time: 0:08:18.666044\n",
      "Episode 1100\tAverage Score: 0.066 Max Score: 1.095 Noise: 0.010 exec.time: 0:09:33.309623\n",
      "Episode 1200\tAverage Score: 0.095 Max Score: 1.095 Noise: 0.010 exec.time: 0:11:15.270093\n",
      "Episode 1300\tAverage Score: 0.118 Max Score: 1.095 Noise: 0.010 exec.time: 0:13:14.361878\n",
      "Episode 1400\tAverage Score: 0.123 Max Score: 1.095 Noise: 0.010 exec.time: 0:15:16.121969\n",
      "Episode 1500\tAverage Score: 0.145 Max Score: 1.095 Noise: 0.010 exec.time: 0:17:36.224297\n",
      "Episode 1600\tAverage Score: 0.145 Max Score: 1.095 Noise: 0.010 exec.time: 0:19:54.177108\n",
      "Episode 1700\tAverage Score: 0.211 Max Score: 1.095 Noise: 0.010 exec.time: 0:22:55.678672\n",
      "Episode 1800\tAverage Score: 0.339 Max Score: 1.895 Noise: 0.010 exec.time: 0:27:22.361670\n",
      "Episode 1829\tAverage Score: 0.503 Max Score: 2.600 Noise: 0.010 exec.time: 0:30:49.106347 <-- Objective Achived!\n",
      "- Average score of +0.50 over 100 consecutive episodes\n",
      "- Trainining Finished -\n",
      "- Total training time:\t0:30:49.106347\n"
     ]
    }
   ],
   "source": [
    "scores, _ = trainer.train(n_episodes=10000, max_t=1000, print_every=100, verbose=True, save=True, stop=True,\n",
    "                          save_name='MADDDPG_')"
   ]
  },
  {
   "cell_type": "code",
   "execution_count": 11,
   "metadata": {},
   "outputs": [
    {
     "data": {
      "text/plain": [
       "0          NaN\n",
       "1          NaN\n",
       "2          NaN\n",
       "3          NaN\n",
       "4          NaN\n",
       "         ...  \n",
       "1824    0.4526\n",
       "1825    0.4531\n",
       "1826    0.4696\n",
       "1827    0.4851\n",
       "1828    0.5031\n",
       "Length: 1829, dtype: float64"
      ]
     },
     "execution_count": 11,
     "metadata": {},
     "output_type": "execute_result"
    },
    {
     "data": {
      "image/png": "[encoded data removed]",
      "text/plain": [
       "<Figure size 762x508 with 1 Axes>"
      ]
     },
     "metadata": {
      "needs_background": "light"
     },
     "output_type": "display_data"
    }
   ],
   "source": [
    "plot_scores(scores, rolling_window=100, title='MADDPG - Tennis')"
   ]
  },
  {
   "cell_type": "markdown",
   "metadata": {},
   "source": [
    "### View Trained Agent in Action"
   ]
  },
  {
   "cell_type": "code",
   "execution_count": 5,
   "metadata": {},
   "outputs": [
    {
     "name": "stdout",
     "output_type": "stream",
     "text": [
      "Turn 0 Mean Score: 1.3000000193715096\n"
     ]
    }
   ],
   "source": [
    "with open('MADDDPG_config.pkl', 'rb') as handle:\n",
    "    config = pickle.load(handle)\n",
    "\n",
    "agent = MADDPG(state_size, action_size, num_agents, random_seed=0, config=config)\n",
    "\n",
    "agent.load_agents()\n",
    "                                   \n",
    "for i in range(1):\n",
    "    env_info = env.reset(train_mode=False)[brain_name]   # Init Enviroment\n",
    "    states = env_info.vector_observations                    # Get Initial State\n",
    "    scores = np.zeros(num_agents)                            # array with episode scores\n",
    "\n",
    "    agent.reset()                                       # Reset Noise\n",
    "    for t in range(500):\n",
    "        actions = agent.act(states, add_noise=False)\n",
    "        env_info = env.step(actions)[brain_name]\n",
    "        next_state = env_info.vector_observations\n",
    "        rewards = env_info.rewards\n",
    "        done = env_info.local_done\n",
    "        states = next_state\n",
    "        scores += rewards\n",
    "#                 print(done)\n",
    "        if np.any(done):\n",
    "            break       \n",
    "    print(f'Turn {i} Mean Score: {np.mean(scores)}')"
   ]
  },
  {
   "cell_type": "markdown",
   "metadata": {},
   "source": [
    "# Trained Agent in Action\n",
    "\n",
    "![SegmentLocal](imgs/MADDPG.gif \"MADDPG\")"
   ]
  },
  {
   "cell_type": "code",
   "execution_count": null,
   "metadata": {},
   "outputs": [],
   "source": []
  }
 ],
 "metadata": {
  "kernelspec": {
   "display_name": "Python 3",
   "language": "python",
   "name": "python3"
  },
  "language_info": {
   "codemirror_mode": {
    "name": "ipython",
    "version": 3
   },
   "file_extension": ".py",
   "mimetype": "text/x-python",
   "name": "python",
   "nbconvert_exporter": "python",
   "pygments_lexer": "ipython3",
   "version": "3.6.7"
  }
 },
 "nbformat": 4,
 "nbformat_minor": 2
}
